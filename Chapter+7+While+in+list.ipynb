{
 "cells": [
  {
   "cell_type": "code",
   "execution_count": null,
   "metadata": {},
   "outputs": [],
   "source": [
    "sandwich_orders = ['veggie', 'grilled cheese', 'turkey', 'roast beef']\n",
    "completed =[]\n",
    "\n",
    "while sandwich_orders:\n",
    "    dev = sandwich_orders.pop()\n",
    "    print(\"the order of \"+dev.title()+\" has been completed\")\n",
    "    completed.append(dev)  \n",
    "print('\\n')    \n",
    "for n in completed:\n",
    "    print(n)    "
   ]
  },
  {
   "cell_type": "code",
   "execution_count": 9,
   "metadata": {},
   "outputs": [
    {
     "name": "stdout",
     "output_type": "stream",
     "text": [
      "we are sorry all the pastrami are finished :p \n",
      "\n",
      "\n",
      "your order for roast beefis ready\n",
      "your order for turkeyis ready\n",
      "your order for grilled cheeseis ready\n",
      "your order for veggieis ready\n",
      "\n",
      "\n",
      "roast beef\n",
      "turkey\n",
      "grilled cheese\n",
      "veggie\n"
     ]
    }
   ],
   "source": [
    "sandwich_orders = [\n",
    "    'pastrami', 'veggie', 'grilled cheese', 'pastrami',\n",
    "    'turkey', 'roast beef', 'pastrami']\n",
    "\n",
    "\n",
    "finished=[]\n",
    "print('we are sorry all the pastrami are finished :p ')\n",
    "while 'pastrami' in sandwich_orders:\n",
    "    sandwich_orders.remove('pastrami')\n",
    "print(\"\\n\")\n",
    "while sandwich_orders:\n",
    "    popped = sandwich_orders.pop()\n",
    "    print (\"your order for \"+popped+\"is ready\")\n",
    "    finished.append(popped)\n",
    "print(\"\\n\")\n",
    "for n in finished:\n",
    "    print(n)"
   ]
  },
  {
   "cell_type": "code",
   "execution_count": null,
   "metadata": {},
   "outputs": [],
   "source": [
    "prompt_name = \"what is your name?\"\n",
    "prompt_vacation = \"Where do you want to go on vaction\"\n",
    "prompt_continue =\"\\n do you want to answer more questiona {y/n}?\"\n",
    "\n",
    "response  = {}\n",
    "\n",
    "while True:\n",
    "    name = input(prompt_name)\n",
    "    vacation = input(prompt_vacation)\n",
    "    \n",
    "    response[name] = vacation\n",
    "    \n",
    "    conti = input(prompt_continue)\n",
    "    if conti != 'y':\n",
    "        break\n",
    "        \n",
    "for n,v in response.items():\n",
    "    print('the name of the person is '+n)\n",
    "    print('the name of the persons vacation is '+v)\n",
    "    \n",
    "    \n",
    "    \n",
    "\n",
    "\n",
    "    \n",
    "\n",
    "    "
   ]
  },
  {
   "cell_type": "code",
   "execution_count": null,
   "metadata": {
    "collapsed": true
   },
   "outputs": [],
   "source": [
    "name_prompt = \"\\nWhat's your name? \"\n",
    "place_prompt = \"If you could visit one place in the world, where would it be? \"\n",
    "continue_prompt = \"\\nWould you like to let someone else respond? (yes/no) \"\n",
    "\n",
    "# Responses will be stored in the form {name: place}.\n",
    "responses = {}\n",
    "\n",
    "while True:\n",
    "    # Ask the user where they'd like to go.\n",
    "    name = input(name_prompt)\n",
    "    place = input(place_prompt)\n",
    "\n",
    "    # Store the response.\n",
    "    responses[name] = place\n",
    "\n",
    "    # Ask if there's anyone else responding.\n",
    "    repeat = input(continue_prompt)\n",
    "    if repeat != 'yes':\n",
    "        break\n",
    "\n",
    "# Show results of the survey.\n",
    "print(\"\\n--- Results ---\")\n",
    "for name, place in responses.items():\n",
    "    print(name.title() + \" would like to visit \" + place.title() + \".\")"
   ]
  },
  {
   "cell_type": "code",
   "execution_count": null,
   "metadata": {
    "collapsed": true
   },
   "outputs": [],
   "source": []
  },
  {
   "cell_type": "code",
   "execution_count": null,
   "metadata": {
    "collapsed": true
   },
   "outputs": [],
   "source": []
  }
 ],
 "metadata": {
  "kernelspec": {
   "display_name": "Python 3",
   "language": "python",
   "name": "python3"
  },
  "language_info": {
   "codemirror_mode": {
    "name": "ipython",
    "version": 3
   },
   "file_extension": ".py",
   "mimetype": "text/x-python",
   "name": "python",
   "nbconvert_exporter": "python",
   "pygments_lexer": "ipython3",
   "version": "3.6.3"
  }
 },
 "nbformat": 4,
 "nbformat_minor": 2
}
