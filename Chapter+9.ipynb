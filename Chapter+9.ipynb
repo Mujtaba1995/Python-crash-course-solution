{
 "cells": [
  {
   "cell_type": "code",
   "execution_count": 12,
   "metadata": {},
   "outputs": [
    {
     "name": "stdout",
     "output_type": "stream",
     "text": [
      "my dogs name is Willie\n",
      "my dog's age is 6\n",
      "My dog name is Willieand he is sitting right now\n",
      "\n",
      "\n",
      "My dog Willieis rolling becasue his age is6\n",
      "your Dog's name is Jackki\n",
      "your dog's age is 4 and he is \n"
     ]
    }
   ],
   "source": [
    "class Dog():\n",
    "    \n",
    "    def __init__(self,name,age):\n",
    "        self.name = name\n",
    "        self.age = age\n",
    "        \n",
    "    def sit(self):\n",
    "        print('My dog name is '+ self.name+ 'and he is sitting right now' )\n",
    "    \n",
    "    def roll_over(self):\n",
    "        print('My dog '+self.name +'is rolling becasue his age is'+self.age)\n",
    "    \n",
    "my_dog = Dog('Willie','6')\n",
    "\n",
    "print('my dogs name is '+my_dog.name.title())\n",
    "print(\"my dog's age is \"+my_dog.age.title())\n",
    "\n",
    "my_dog.sit()\n",
    "print('\\n')\n",
    "my_dog.roll_over()\n",
    "\n",
    "your_dog = Dog('jackki','4')\n",
    "\n",
    "print(\"your Dog's name is \"+your_dog.name.title())\n",
    "print(\"your dog's age is \"+str(your_dog.age)+ \" and he is \")"
   ]
  },
  {
   "cell_type": "code",
   "execution_count": 19,
   "metadata": {},
   "outputs": [
    {
     "name": "stdout",
     "output_type": "stream",
     "text": [
      "the name of my restaurant is Broadwayand it's of typeItalian\n",
      "the name of the restaurant is Broadwayand it's type is Italian\n",
      "the name of the restaurant is Broadwayand it's type is Italianis open now!!\n"
     ]
    }
   ],
   "source": [
    "class Restaurants():\n",
    "    \n",
    "    def __init__(self,restaurant_name,cusine_type):\n",
    "        \n",
    "        self.restaurant_name = restaurant_name\n",
    "        self.cusine_type = cusine_type\n",
    "        \n",
    "    def describe_restaursnt(self):\n",
    "        print(\"the name of the restaurant is \"+self.restaurant_name.title()+ \"and it's type is \"+self.cusine_type.title())\n",
    "    \n",
    "    \n",
    "    def open_restaurant(self):\n",
    "          print(\"the name of the restaurant is \"+self.restaurant_name.title()+ \"and it's type is \"+self.cusine_type.title()+\"is open now!!\")\n",
    "    \n",
    "my_restu=Restaurants('Broadway','Italian')\n",
    "\n",
    "print(\"the name of my restaurant is \"+my_restu.restaurant_name.title()+\"and it's of type\"+my_restu.cusine_type.title())\n",
    "\n",
    "my_restu = Restaurants('Oh My Grill','American Burgers')\n",
    "my_restu.\n",
    "\n",
    "my_restu.describe_restaursnt()\n",
    "my_restu.open_restaurant()"
   ]
  },
  {
   "cell_type": "code",
   "execution_count": 3,
   "metadata": {},
   "outputs": [
    {
     "name": "stdout",
     "output_type": "stream",
     "text": [
      "Hey !! Mujtaba Khan\n",
      "\n",
      "Welcome back, Mujtaba!\n"
     ]
    }
   ],
   "source": [
    "class User():\n",
    "    \"\"\"Represent a simple user profile.\"\"\"\n",
    "\n",
    "    def __init__(self, first_name, last_name):\n",
    "        \"\"\"Initialize the user.\"\"\"\n",
    "        self.first_name = first_name.title()\n",
    "        self.last_name = last_name.title()\n",
    "        \n",
    "    def describe_user(self):\n",
    "        \"\"\"Display a summary of the user's information.\"\"\"\n",
    "        print( \"Hey !! \"+self.first_name + \" \" + self.last_name)\n",
    "       \n",
    "\n",
    "    def greet_user(self):\n",
    "        \"\"\"Display a personalized greeting to the user.\"\"\"\n",
    "        print(\"\\nWelcome back, \" + self.first_name + \"!\")\n",
    "\n",
    "mujtaba = User('Mujtaba', 'Khan', )\n",
    "mujtaba.describe_user()\n",
    "mujtaba.greet_user()\n",
    "\n"
   ]
  },
  {
   "cell_type": "code",
   "execution_count": 24,
   "metadata": {},
   "outputs": [
    {
     "name": "stdout",
     "output_type": "stream",
     "text": [
      "the make of may car is toyota the model is range roverand is from 2015\n",
      "the reading of metre is 23\n"
     ]
    }
   ],
   "source": [
    " class Car():\n",
    "    def __init__ (self, make,model,year):\n",
    "        self.make = make\n",
    "        self.model= model\n",
    "        self.year = year\n",
    "        self.odometer_reading = 0\n",
    "        \n",
    "    def describe_car(self):\n",
    "            print(\"the make of may car is \"+self.make+\" the model is \"+self.model+\"and is from \"+self.year)\n",
    "\n",
    "    def read_odometre(self):\n",
    "            print (\"the reading of metre is \"+str(self.odometer_reading))  \n",
    "            \n",
    "            \n",
    "            \n",
    "    def update_Default(self,milage):\n",
    "        if(milage >= self.odometer_reading):\n",
    "            \n",
    "            self.odometer_reading = milage\n",
    "            \n",
    "        else:\n",
    "            print(\"You can't roll back your metre!\")\n",
    "        \n",
    "    \n",
    "            \n",
    "my_car = Car('toyota','range rover','2015')\n",
    "my_car.describe_car()\n",
    "\n",
    "\n",
    "\n",
    "my_car.odometer_reading = 23\n",
    "\n",
    "my_car.read_odometre()\n",
    "\n",
    "\n",
    "\n",
    "    \n"
   ]
  },
  {
   "cell_type": "code",
   "execution_count": null,
   "metadata": {
    "collapsed": true
   },
   "outputs": [],
   "source": []
  },
  {
   "cell_type": "code",
   "execution_count": 1,
   "metadata": {},
   "outputs": [
    {
     "name": "stdout",
     "output_type": "stream",
     "text": [
      "This car can go <class 'range'>\n",
      "None\n",
      "the make of may car is porsche the model is with drone and is from 2018\n",
      "None\n",
      "the make of may car is toyota the model is range rover and is from 2015\n",
      "the reading of metre is 23\n",
      "the make of may car is Honda the model is Vezel and is from 2015\n",
      "the reading of metre is 77\n"
     ]
    }
   ],
   "source": [
    "class Car():\n",
    "    def __init__ (self, make,model,year):\n",
    "        self.make = make\n",
    "        self.model= model\n",
    "        self.year = year\n",
    "        self.odometer_reading = 0\n",
    "        \n",
    "    def describe_car(self):\n",
    "            print(\"the make of may car is \"+self.make+\" the model is \"+self.model+\" and is from \"+self.year)\n",
    "\n",
    "    def read_odometre(self):\n",
    "            print (\"the reading of metre is \"+str(self.odometer_reading))  \n",
    "            \n",
    "            \n",
    "            \n",
    "    def update_Default(self,milage):\n",
    "        if(milage >= self.odometer_reading):\n",
    "            \n",
    "            self.odometer_reading = milage\n",
    "            \n",
    "        else:\n",
    "            print(\"You can't roll back your metre!\")\n",
    "\n",
    "class Battery():\n",
    "    \n",
    "    def __init__(self,battery_size =50):\n",
    "        \n",
    "        self.battery_size = battery_size\n",
    "        \n",
    "    def check_bettery():\n",
    "        if self.battery_size == 50:\n",
    "            range = 120\n",
    "        elif self.battery_size == 85:\n",
    "            range = 160\n",
    "            \n",
    "    mess = print('This car can go '+str(range))\n",
    "    print(mess)\n",
    "    \n",
    "    def battery_upgarde():\n",
    "        if self.battery_size == 50:\n",
    "            self.battery_size = 85\n",
    "            print('please upgrade your battery')\n",
    "            \n",
    "        else:\n",
    "            \n",
    "            print(\"The battery is already upgraded.\")\n",
    "            \n",
    "class Electric_Car(Car):\n",
    "    def __init__(self,make, model, year):\n",
    "        super().__init__(make, model, year)\n",
    "        self.battery_status = Battery()\n",
    "        \n",
    "\n",
    "e_car = Electric_Car('porsche','with drone','2018')\n",
    "print(e_car.describe_car())\n",
    "    \n",
    "\n",
    "    \n",
    "            \n",
    "my_car = Car('toyota','range rover','2015')\n",
    "my_car.describe_car()\n",
    "\n",
    "\n",
    "\n",
    "my_car.odometer_reading = 23\n",
    "\n",
    "my_car.read_odometre()\n",
    "\n",
    "my_usedCar = Car('Honda','Vezel','2015')\n",
    "my_usedCar.describe_car()\n",
    "\n",
    "\n",
    "my_usedCar.update_Default(77)\n",
    "\n",
    "my_usedCar.read_odometre()\n",
    "\n",
    "\n",
    "\n",
    "        \n",
    "\n",
    "        \n",
    "    \n"
   ]
  },
  {
   "cell_type": "code",
   "execution_count": 29,
   "metadata": {},
   "outputs": [
    {
     "name": "stdout",
     "output_type": "stream",
     "text": [
      "Oh My Grill serves wonderful English burgers.\n"
     ]
    },
    {
     "ename": "AttributeError",
     "evalue": "'Restaurant' object has no attribute 'more_served'",
     "output_type": "error",
     "traceback": [
      "\u001b[1;31m---------------------------------------------------------------------------\u001b[0m",
      "\u001b[1;31mAttributeError\u001b[0m                            Traceback (most recent call last)",
      "\u001b[1;32m<ipython-input-29-eb0e3373b992>\u001b[0m in \u001b[0;36m<module>\u001b[1;34m()\u001b[0m\n\u001b[0;32m     30\u001b[0m \u001b[1;33m\u001b[0m\u001b[0m\n\u001b[0;32m     31\u001b[0m \u001b[0mmy_rest\u001b[0m\u001b[1;33m.\u001b[0m\u001b[0mdescribe_restaurant\u001b[0m\u001b[1;33m(\u001b[0m\u001b[1;33m)\u001b[0m\u001b[1;33m\u001b[0m\u001b[0m\n\u001b[1;32m---> 32\u001b[1;33m \u001b[0mmy_rest\u001b[0m\u001b[1;33m.\u001b[0m\u001b[0mmore_served\u001b[0m\u001b[1;33m(\u001b[0m\u001b[1;36m24\u001b[0m\u001b[1;33m)\u001b[0m\u001b[1;33m\u001b[0m\u001b[0m\n\u001b[0m\u001b[0;32m     33\u001b[0m \u001b[1;33m\u001b[0m\u001b[0m\n\u001b[0;32m     34\u001b[0m \u001b[1;32mclass\u001b[0m \u001b[0mIcecreame\u001b[0m\u001b[1;33m(\u001b[0m\u001b[0mResturant\u001b[0m\u001b[1;33m)\u001b[0m\u001b[1;33m:\u001b[0m\u001b[1;33m\u001b[0m\u001b[0m\n",
      "\u001b[1;31mAttributeError\u001b[0m: 'Restaurant' object has no attribute 'more_served'"
     ]
    }
   ],
   "source": [
    "#accessing the values directlyclass Restaurant():\n",
    "  \n",
    "class Resturant():\n",
    "    \"\"\"A class representing a restaurant.\"\"\"\n",
    "\n",
    "    def __init__(self, name, cuisine_type):\n",
    "        \"\"\"Initialize the restaurant.\"\"\"\n",
    "        self.name = name.title()\n",
    "        self.cuisine_type = cuisine_type\n",
    "        self.number_served = 0\n",
    "\n",
    "    def describe_restaurant(self):\n",
    "        \"\"\"Display a summary of the restaurant.\"\"\"\n",
    "        msg = self.name + \" serves wonderful \" + self.cuisine_type + \".\"\n",
    "        print( msg)\n",
    "\n",
    "    def set_value(self):\n",
    "        print(\"the no of restaurants served are \"+str(self.number_served))\n",
    "            \n",
    "        \n",
    "\n",
    "    def additional (self,additional):\n",
    "              \n",
    "              self.number_served =  additional           \n",
    "    \n",
    "    def more_served(self,more):\n",
    "              self.number_served += more\n",
    "              \n",
    "my_rest =Restaurant('Oh My Grill','English burgers')\n",
    "              \n",
    "my_rest.describe_restaurant()   \n",
    "my_rest.more_served(24)\n",
    "              \n",
    "class Icecreame(Resturant):\n",
    "    def __init__ (self,self, name, cuisine_type):\n",
    "        super().__init__ (self,self, name, cuisine_type)\n",
    "        self.flavour =[]\n",
    "    def list_flavours(self):\n",
    "        \n",
    "            print(\"the list of flavours are :\")\n",
    "            \n",
    "            for flav in self.flavour:\n",
    "                print(flav)\n",
    "            \n",
    "                \n",
    "                \n",
    "    \n",
    "        \n",
    "        \n",
    "        \n",
    "                \n",
    "inher = Icecreame(\"ice creams\",['chocolate','vanila','cadbury'])\n",
    "print(inher.list_flavours)                \n",
    "           \n",
    "            \n",
    "\n",
    "    \n",
    "        \n"
   ]
  },
  {
   "cell_type": "code",
   "execution_count": 2,
   "metadata": {},
   "outputs": [
    {
     "ename": "SyntaxError",
     "evalue": "invalid syntax (<ipython-input-2-ca3d1fe1286b>, line 18)",
     "output_type": "error",
     "traceback": [
      "\u001b[1;36m  File \u001b[1;32m\"<ipython-input-2-ca3d1fe1286b>\"\u001b[1;36m, line \u001b[1;32m18\u001b[0m\n\u001b[1;33m    def login_attempts(self):\u001b[0m\n\u001b[1;37m      ^\u001b[0m\n\u001b[1;31mSyntaxError\u001b[0m\u001b[1;31m:\u001b[0m invalid syntax\n"
     ]
    }
   ],
   "source": [
    "class User():\n",
    "    \n",
    "    def __init__(self,fname,lname,username):\n",
    "        \n",
    "        self.fname = fname.title()\n",
    "        self.lname = lname.title()\n",
    "        self.username = username.title()\n",
    "        self.login_attempts =login_attempts\n",
    "        \n",
    "        \n",
    "\n",
    "        \n",
    "    def greetings(self):\n",
    "        \n",
    "        print (\"Hello \"+self.username\n",
    "    \n",
    "               \n",
    "    def login_attempts(self):\n",
    "               \n",
    "                self.login_attempts += 1\n",
    "    \n",
    "    def reset_login(self):\n",
    "               \n",
    "               login_attempts = 0\n",
    "               \n",
    "my_login = User('Mujtaba','khan','khan1995')\n",
    "\n",
    "my_login.login_attempts()\n",
    "my_login.login_attempts()\n",
    "my_login.login_attempts()\n",
    "my_login.login_attempts()\n",
    "my_login.login_attempts()\n",
    "print(\"this is your \"+str(my_login.login_attempts())+\" attempt\")              \n",
    "\n",
    "               \n",
    "               \n",
    "                \n",
    "                \n"
   ]
  },
  {
   "cell_type": "code",
   "execution_count": 3,
   "metadata": {},
   "outputs": [
    {
     "name": "stdout",
     "output_type": "stream",
     "text": [
      "Mujtaba Khan\n",
      "  Username Mujtaba1995\n",
      "  Email khanmmujtaba@gmail.com\n",
      "Privileges Are :\n",
      "can add\n",
      "can delete\n",
      "canblock\n"
     ]
    }
   ],
   "source": [
    "class User():\n",
    "    \"\"\"Represent a simple user profile.\"\"\"\n",
    "\n",
    "    def __init__(self, first_name, last_name, username, email):\n",
    "        \n",
    "        self.first_name = first_name.title()\n",
    "        self.last_name = last_name.title()\n",
    "        self.username = username\n",
    "        self.email = email\n",
    "        \n",
    "        self.login_attempts = 0\n",
    "\n",
    "    def describe_user(self):\n",
    "        \"\"\n",
    "        print(self.first_name + \" \" + self.last_name)\n",
    "        print(\"  Username \" + self.username)\n",
    "        print(\"  Email \" + self.email)\n",
    "        \n",
    "\n",
    "    def greet_user(self):\n",
    "        \"\"\"Display a personalized greeting to the user.\"\"\"\n",
    "        print(\"Welcome back, \" + self.username + \"!\")\n",
    "\n",
    "    def increment_login_attempts(self):\n",
    "        \"\"\"Increment the value of login_attempts.\"\"\"\n",
    "        self.login_attempts += 1\n",
    "\n",
    "    def reset_login_attempts(self):\n",
    "        \"\"\"Reset login_attempts to 0.\"\"\"\n",
    "        self.login_attempts = 0\n",
    "\n",
    "\n",
    "class Admin(User):\n",
    "   \n",
    "\n",
    "    def __init__(self, first_name, last_name, username, email):\n",
    "        \"\"\"Initialize the admin.\"\"\"\n",
    "        super().__init__(first_name, last_name, username, email)\n",
    "        self.privileges = []\n",
    "\n",
    "    def show_privileges(self):\n",
    "        \"\"\"Display the privileges this administrator has.\"\"\"\n",
    "        print(\"Privileges Are :\")\n",
    "        for privilege in self.privileges:\n",
    "            print( privilege)\n",
    "\n",
    "\n",
    "my_obj = Admin('Mujtaba', 'Khan', 'Mujtaba1995', 'khanmmujtaba@gmail.com')\n",
    "my_obj.describe_user()\n",
    "\n",
    "my_obj.privileges=['can add','can delete','canblock']\n",
    "\n",
    "my_obj.show_privileges()"
   ]
  },
  {
   "cell_type": "code",
   "execution_count": 5,
   "metadata": {},
   "outputs": [
    {
     "name": "stdout",
     "output_type": "stream",
     "text": [
      "jen favorite language is python\n",
      "sarah favorite language is c\n",
      "edward favorite language is ruby\n",
      "phil favorite language is python\n"
     ]
    }
   ],
   "source": [
    "from collections import OrderedDict\n",
    "\n",
    "favorite_languages = {}\n",
    "favorite_languages['jen'] = 'python'\n",
    "favorite_languages['sarah'] = 'c'\n",
    "favorite_languages['edward'] = 'ruby'\n",
    "favorite_languages['phil'] = 'python'\n",
    "\n",
    "for k,v in favorite_languages.items():\n",
    "    print(k +\" favorite language is \"+v)\n",
    "    \n"
   ]
  },
  {
   "cell_type": "code",
   "execution_count": null,
   "metadata": {
    "collapsed": true
   },
   "outputs": [],
   "source": []
  }
 ],
 "metadata": {
  "kernelspec": {
   "display_name": "Python 3",
   "language": "python",
   "name": "python3"
  },
  "language_info": {
   "codemirror_mode": {
    "name": "ipython",
    "version": 3
   },
   "file_extension": ".py",
   "mimetype": "text/x-python",
   "name": "python",
   "nbconvert_exporter": "python",
   "pygments_lexer": "ipython3",
   "version": "3.6.3"
  }
 },
 "nbformat": 4,
 "nbformat_minor": 2
}
