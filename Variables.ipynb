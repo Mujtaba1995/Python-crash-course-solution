{
 "cells": [
  {
   "cell_type": "code",
   "execution_count": 2,
   "metadata": {},
   "outputs": [
    {
     "name": "stdout",
     "output_type": "stream",
     "text": [
      "tell me somthinghey\n",
      "hey\n"
     ]
    }
   ],
   "source": [
    "message = input(\"tell me somthing\")\n",
    "print(message)"
   ]
  },
  {
   "cell_type": "code",
   "execution_count": 3,
   "metadata": {},
   "outputs": [
    {
     "name": "stdout",
     "output_type": "stream",
     "text": [
      "Please enter your name: Mujtaba\n",
      "Mujtaba\n"
     ]
    }
   ],
   "source": [
    "name = input(\"Please enter your name: \")\n",
    "print(name)"
   ]
  },
  {
   "cell_type": "code",
   "execution_count": null,
   "metadata": {
    "collapsed": true
   },
   "outputs": [],
   "source": [
    "name = input(\"please enter your name\")\n",
    "print(\"hello\"+ name+\"!\")"
   ]
  },
  {
   "cell_type": "code",
   "execution_count": null,
   "metadata": {
    "collapsed": true
   },
   "outputs": [],
   "source": [
    "print(\"hello\"+ name+\"!\")"
   ]
  },
  {
   "cell_type": "code",
   "execution_count": null,
   "metadata": {
    "collapsed": true
   },
   "outputs": [],
   "source": [
    "no = input (\"enter a no i will tell you if it is even or odd\")\n",
    "no = int(no)\n",
    "\n",
    "if no / 2 == 0:\n",
    "    print(\"the no which is \"+no+\" even\")\n",
    "else:\n",
    "      print(\"the no which is \"+no+\" odd\")"
   ]
  },
  {
   "cell_type": "code",
   "execution_count": null,
   "metadata": {
    "collapsed": true
   },
   "outputs": [],
   "source": [
    "height = input(\"how long are you?\")\n",
    "height = int(height)\n",
    "\n",
    "if height>= 5:\n",
    "    print(\"you Aare eligible\")\n",
    "    \n",
    "    \n",
    "else:\n",
    "    print(\"you are not eligible\")\n",
    "    \n"
   ]
  },
  {
   "cell_type": "code",
   "execution_count": null,
   "metadata": {
    "collapsed": true
   },
   "outputs": [],
   "source": [
    "tens = input(\"tell me a no i will tell whter it is a multiple of 10 or not?\")\n",
    "ten= int(ten)\n",
    "\n",
    "if ten/10==0:\n",
    "    print(\"yes it is multiple\")\n",
    "else:\n",
    "    print(no it is not)"
   ]
  },
  {
   "cell_type": "code",
   "execution_count": null,
   "metadata": {},
   "outputs": [
    {
     "name": "stdout",
     "output_type": "stream",
     "text": [
      "Do you want to tell me your name? (y/n)\n"
     ]
    }
   ],
   "source": []
  },
  {
   "cell_type": "code",
   "execution_count": null,
   "metadata": {
    "collapsed": true
   },
   "outputs": [],
   "source": []
  },
  {
   "cell_type": "code",
   "execution_count": null,
   "metadata": {
    "collapsed": true
   },
   "outputs": [],
   "source": []
  }
 ],
 "metadata": {
  "kernelspec": {
   "display_name": "Python 3",
   "language": "python",
   "name": "python3"
  },
  "language_info": {
   "codemirror_mode": {
    "name": "ipython",
    "version": 3
   },
   "file_extension": ".py",
   "mimetype": "text/x-python",
   "name": "python",
   "nbconvert_exporter": "python",
   "pygments_lexer": "ipython3",
   "version": "3.6.3"
  }
 },
 "nbformat": 4,
 "nbformat_minor": 2
}
