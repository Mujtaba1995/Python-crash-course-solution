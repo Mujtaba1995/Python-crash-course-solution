{
 "cells": [
  {
   "cell_type": "code",
   "execution_count": null,
   "metadata": {},
   "outputs": [
    {
     "name": "stdout",
     "output_type": "stream",
     "text": [
      "\n",
      "What album are you thinking of? lnl\n",
      "Who's the artist? df\n",
      "\n",
      "What album are you thinking of? fd\n",
      "Who's the artist? fdfd\n",
      "\n",
      "What album are you thinking of? fdf\n",
      "Who's the artist? dfd\n",
      "\n",
      "What album are you thinking of? fd\n",
      "Who's the artist? fd\n",
      "\n",
      "What album are you thinking of? fd\n",
      "Who's the artist? fd\n"
     ]
    }
   ],
   "source": [
    "def album(artist,album,tracks=''):\n",
    "    albumS = {'Name':get_formatted_name,\n",
    "            'Title':album_title}\n",
    "    if tracks:\n",
    "        albumS['track']= tracks\n",
    "        \n",
    "    return albumS\n",
    "title_prompt = \"\\nWhat album are you thinking of? \"\n",
    "artist_prompt = \"Who's the artist? \"\n",
    "while True:\n",
    "    artist = input(title_prompt)\n",
    "    if artist == 'q':\n",
    "        break\n",
    "    title = input(artist_prompt)\n",
    "    if title == 'q':\n",
    "        break\n",
    "    mess = album(artist, title)\n",
    "    \n",
    "    \n",
    "    print(mess)\n",
    "\n",
    "\n"
   ]
  },
  {
   "cell_type": "code",
   "execution_count": null,
   "metadata": {
    "collapsed": true
   },
   "outputs": [],
   "source": []
  }
 ],
 "metadata": {
  "kernelspec": {
   "display_name": "Python 3",
   "language": "python",
   "name": "python3"
  },
  "language_info": {
   "codemirror_mode": {
    "name": "ipython",
    "version": 3
   },
   "file_extension": ".py",
   "mimetype": "text/x-python",
   "name": "python",
   "nbconvert_exporter": "python",
   "pygments_lexer": "ipython3",
   "version": "3.6.3"
  }
 },
 "nbformat": 4,
 "nbformat_minor": 2
}
