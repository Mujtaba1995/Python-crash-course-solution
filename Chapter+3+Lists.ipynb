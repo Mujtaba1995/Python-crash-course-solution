{
 "cells": [
  {
   "cell_type": "code",
   "execution_count": 1,
   "metadata": {},
   "outputs": [
    {
     "name": "stdout",
     "output_type": "stream",
     "text": [
      "['trek', 'cannondale', 'redline', 'specialized']\n"
     ]
    }
   ],
   "source": [
    "bicycles = ['trek', 'cannondale', 'redline', 'specialized']\n",
    "print(bicycles)"
   ]
  },
  {
   "cell_type": "code",
   "execution_count": 5,
   "metadata": {},
   "outputs": [
    {
     "name": "stdout",
     "output_type": "stream",
     "text": [
      "how's your python going Mujtaba?\n",
      "how's your python going Zain?\n",
      "how's your python going Wasi?\n"
     ]
    }
   ],
   "source": [
    "names = ['Mujtaba','Zain','Wasi']\n",
    "\n",
    "for name in names:\n",
    "    print(\"how's your python going \"++` )"
   ]
  },
  {
   "cell_type": "code",
   "execution_count": 7,
   "metadata": {},
   "outputs": [
    {
     "name": "stdout",
     "output_type": "stream",
     "text": [
      "Mujtaba please come tomorrow on dinner\n",
      "Zain please come tomorrow on dinner\n",
      "Wasi please come tomorrow on dinner\n"
     ]
    }
   ],
   "source": [
    "names = ['Mujtaba','Zain','Wasi']\n",
    "\n",
    "name = names[0]\n",
    "print(name.title()+\" please come tomorrow on dinner\" )\n",
    "name = names[1]\n",
    "print(name.title()+\" please come tomorrow on dinner\" )\n",
    "name = names[2]\n",
    "print(name.title()+\" please come tomorrow on dinner\" )\n"
   ]
  },
  {
   "cell_type": "code",
   "execution_count": null,
   "metadata": {
    "collapsed": true
   },
   "outputs": [],
   "source": [
    "guests = ['Mujtaba','Zain','Wasi','bharara','shani']\n"
   ]
  }
 ],
 "metadata": {
  "kernelspec": {
   "display_name": "Python 3",
   "language": "python",
   "name": "python3"
  },
  "language_info": {
   "codemirror_mode": {
    "name": "ipython",
    "version": 3
   },
   "file_extension": ".py",
   "mimetype": "text/x-python",
   "name": "python",
   "nbconvert_exporter": "python",
   "pygments_lexer": "ipython3",
   "version": "3.6.3"
  }
 },
 "nbformat": 4,
 "nbformat_minor": 2
}
