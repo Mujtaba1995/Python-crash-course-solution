{
 "cells": [
  {
   "cell_type": "code",
   "execution_count": 2,
   "metadata": {},
   "outputs": [
    {
     "name": "stdout",
     "output_type": "stream",
     "text": [
      "The name of person Mujtaba\n",
      "The last name of person khan\n",
      "The age of person 23\n",
      "The city of person Karachi\n"
     ]
    }
   ],
   "source": [
    "person = {'first_name':'Mujtaba','last_name':'khan','age':'23','city':'Karachi'}\n",
    "print('The name of person ' +person['first_name'])\n",
    "print('The last name of person ' +person['last_name'])\n",
    "print('The age of person ' +person['age'])\n",
    "print('The city of person ' +person['city'])\n"
   ]
  },
  {
   "cell_type": "code",
   "execution_count": 7,
   "metadata": {},
   "outputs": [
    {
     "name": "stdout",
     "output_type": "stream",
     "text": [
      "The fav no of Mujtaba is9\n",
      "The fav no of Khan is 23\n"
     ]
    }
   ],
   "source": [
    "FavouriteNos = {'Mujtaba':9,'khan':23,'Karachi':5}\n",
    "fano = FavouriteNos['Mujtaba']\n",
    "print('The fav no of Mujtaba is' + str(fano))\n",
    "fano = FavouriteNos['khan']\n",
    "print('The fav no of Khan is ' + str(fano))\n"
   ]
  },
  {
   "cell_type": "code",
   "execution_count": 11,
   "metadata": {},
   "outputs": [
    {
     "name": "stdout",
     "output_type": "stream",
     "text": [
      "The meaning of string is A Series Of Characters.\n"
     ]
    }
   ],
   "source": [
    "glossary = {\n",
    "    'string': 'A series of characters.',\n",
    "    'comment': 'A note in a program that the Python interpreter ignores.',\n",
    "    'list': 'A collection of items in a particular order.',\n",
    "    'loop': 'Work through a collection of items, one at a time.',\n",
    "    'dictionary': \"A collection of key-value pairs.\",\n",
    "    }\n",
    "meanOfstr = glossary['string']\n",
    "print('The meaning of string is '+meanOfstr.title() )"
   ]
  },
  {
   "cell_type": "code",
   "execution_count": 5,
   "metadata": {},
   "outputs": [
    {
     "name": "stdout",
     "output_type": "stream",
     "text": [
      " Key:username  value:efermi\n",
      " Key:first  value:enrico\n",
      " Key:last  value:fermi\n"
     ]
    }
   ],
   "source": [
    "user_0 = {\n",
    "'username': 'efermi',\n",
    "'first': 'enrico',\n",
    "'last': 'fermi',\n",
    "}\n",
    "  \n",
    "for k,v in user_0.items():\n",
    "    fullname =(' Key:' +k +  \" \"' value:' +v)\n",
    "    print(fullname)\n",
    "\n",
    "    "
   ]
  },
  {
   "cell_type": "code",
   "execution_count": 6,
   "metadata": {
    "collapsed": true
   },
   "outputs": [],
   "source": [
    "favorite_languages = {\n",
    " 'jen': 'python',\n",
    "'sarah': 'c',\n",
    "'edward': 'ruby',\n",
    "'phil': 'python',\n",
    "}\n"
   ]
  },
  {
   "cell_type": "code",
   "execution_count": null,
   "metadata": {
    "collapsed": true
   },
   "outputs": [],
   "source": []
  }
 ],
 "metadata": {
  "kernelspec": {
   "display_name": "Python 3",
   "language": "python",
   "name": "python3"
  },
  "language_info": {
   "codemirror_mode": {
    "name": "ipython",
    "version": 3
   },
   "file_extension": ".py",
   "mimetype": "text/x-python",
   "name": "python",
   "nbconvert_exporter": "python",
   "pygments_lexer": "ipython3",
   "version": "3.6.3"
  }
 },
 "nbformat": 4,
 "nbformat_minor": 2
}
