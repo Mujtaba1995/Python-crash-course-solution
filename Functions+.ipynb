{
 "cells": [
  {
   "cell_type": "code",
   "execution_count": 1,
   "metadata": {
    "collapsed": true
   },
   "outputs": [],
   "source": [
    "def show_magician(magicians):\n",
    "    for magic in magicians:\n",
    "        print(magic)\n",
    "        \n",
    "    \n",
    "\n",
    "magicians = ['harry houdini', 'david blaine', 'teller']        \n",
    "show_magician(magicians)"
   ]
  },
  {
   "cell_type": "code",
   "execution_count": 5,
   "metadata": {},
   "outputs": [
    {
     "name": "stdout",
     "output_type": "stream",
     "text": [
      "harry houdini\n",
      "david blaine\n",
      "teller\n"
     ]
    }
   ],
   "source": [
    "magicians = ['harry houdini', 'david blaine', 'teller'] \n",
    "actual =[]\n",
    "def make_magician(magicians):\n",
    "    current = magicians.pop()\n",
    "    current_madgician - current +\"Great\"\n",
    "    actual.append(current_madgician)\n",
    "    \n",
    "    \n",
    "\n",
    "\n",
    "\n",
    "    \n",
    "    \n",
    "    \n"
   ]
  },
  {
   "cell_type": "code",
   "execution_count": null,
   "metadata": {
    "collapsed": true
   },
   "outputs": [],
   "source": []
  }
 ],
 "metadata": {
  "kernelspec": {
   "display_name": "Python 3",
   "language": "python",
   "name": "python3"
  },
  "language_info": {
   "codemirror_mode": {
    "name": "ipython",
    "version": 3
   },
   "file_extension": ".py",
   "mimetype": "text/x-python",
   "name": "python",
   "nbconvert_exporter": "python",
   "pygments_lexer": "ipython3",
   "version": "3.6.3"
  }
 },
 "nbformat": 4,
 "nbformat_minor": 2
}
