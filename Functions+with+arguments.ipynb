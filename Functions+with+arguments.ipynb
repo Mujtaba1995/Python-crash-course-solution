{
 "cells": [
  {
   "cell_type": "code",
   "execution_count": 4,
   "metadata": {},
   "outputs": [
    {
     "name": "stdout",
     "output_type": "stream",
     "text": [
      "Mujtaba  abd\n",
      "Mujtaba abd khan\n"
     ]
    }
   ],
   "source": [
    "def get_formatted_name(first, last, middle =''):\n",
    "    \"\"\"making argiments optional\"\"\"\n",
    "    if middle:\n",
    "            fname = first +\" \"+middle+\" \"+last\n",
    "    else:\n",
    "            fname = first +\"  \"+last\n",
    "    return fname\n",
    "\n",
    "message = get_formatted_name('Mujtaba','abd')\n",
    "print(message)\n",
    "message = get_formatted_name('Mujtaba','khan','abd')\n",
    "print(message)"
   ]
  },
  {
   "cell_type": "code",
   "execution_count": null,
   "metadata": {
    "collapsed": true
   },
   "outputs": [],
   "source": []
  }
 ],
 "metadata": {
  "kernelspec": {
   "display_name": "Python 3",
   "language": "python",
   "name": "python3"
  },
  "language_info": {
   "codemirror_mode": {
    "name": "ipython",
    "version": 3
   },
   "file_extension": ".py",
   "mimetype": "text/x-python",
   "name": "python",
   "nbconvert_exporter": "python",
   "pygments_lexer": "ipython3",
   "version": "3.6.3"
  }
 },
 "nbformat": 4,
 "nbformat_minor": 2
}
