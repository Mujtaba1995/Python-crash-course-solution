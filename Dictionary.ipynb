{
 "cells": [
  {
   "cell_type": "code",
   "execution_count": 27,
   "metadata": {},
   "outputs": [
    {
     "name": "stdout",
     "output_type": "stream",
     "text": [
      "green\n",
      "{'Color': 'green', 'Points': 5, 'Age': 21, 'Time': 'Current date and time'}\n",
      "Current date and time\n",
      "{'X_position': 0, 'Y_position': 26}\n",
      "alien's Y position is26\n",
      "The new X position is 2\n",
      "{'points': 5}\n",
      "sarah's favourite language is C.\n"
     ]
    }
   ],
   "source": [
    "\n",
    "\n",
    "#Dictionaries are key value pairs\n",
    "#unordered\n",
    "\n",
    "alien_0 = {'Color':'green','Points': 5}\n",
    "\n",
    "\n",
    "#Accessing Value in Dictionary\n",
    "\n",
    "alien_0_Color = alien_0['Color']\n",
    "print(alien_0_Color)\n",
    "\n",
    "#Adding New Key Value Pair\n",
    "alien_0['Age'] = 21\n",
    "alien_0 ['Time']= 'Current date and time'\n",
    "\n",
    "print(alien_0)\n",
    "\n",
    "retriveValue = alien_0['Time']\n",
    "print(retriveValue)\n",
    "\n",
    "#Modefying the Dictionary\n",
    "alien_0 ={'X_position':0 ,'Y_position': 26 }\n",
    "print(alien_0)\n",
    "\n",
    "alien_0 [\"Speed\"] =\"Slow\"\n",
    "\n",
    "\n",
    "print(\"alien's Y position is\"+ str(alien_0['Y_position']))\n",
    "\n",
    "if alien_0['Speed'] == 'Medium':\n",
    "     x_increment = 1\n",
    " \n",
    "elif alien_0['Speed'] == 'Slow':\n",
    "    x_increment = 2\n",
    "\n",
    "else:\n",
    "    x_increment = 3\n",
    "# This must be a fast alien.\n",
    "\n",
    "alien_0['X_position']  = alien_0['X_position'] + x_increment\n",
    "print(\"The new X position is \"   + str(alien_0['X_position']))\n",
    "\n",
    "alien_0 = {'color': 'green', 'points': 5}\n",
    "del alien_0['color']\n",
    "print(alien_0)\n",
    "\n",
    "favorite_languages = {\n",
    "'jen': 'python',\n",
    "'sarah': 'c',\n",
    "'edward': 'ruby',\n",
    "'phil': 'python',\n",
    "}\n",
    "\n",
    "print(\"sarah's favourite language is \" + favorite_languages[\"sarah\"].title()+'.')\n",
    "\n",
    "#Now, Excercise 6.1 \n",
    "Persons = {\n",
    "'jen': 'python',\n",
    "'sarah': 'c',\n",
    "'edward': 'ruby',\n",
    "'phil': 'python',\n",
    "}\n",
    "\n",
    "\n"
   ]
  },
  {
   "cell_type": "code",
   "execution_count": null,
   "metadata": {
    "collapsed": true
   },
   "outputs": [],
   "source": []
  },
  {
   "cell_type": "code",
   "execution_count": null,
   "metadata": {
    "collapsed": true
   },
   "outputs": [],
   "source": []
  }
 ],
 "metadata": {
  "kernelspec": {
   "display_name": "Python 3",
   "language": "python",
   "name": "python3"
  },
  "language_info": {
   "codemirror_mode": {
    "name": "ipython",
    "version": 3
   },
   "file_extension": ".py",
   "mimetype": "text/x-python",
   "name": "python",
   "nbconvert_exporter": "python",
   "pygments_lexer": "ipython3",
   "version": "3.6.3"
  }
 },
 "nbformat": 4,
 "nbformat_minor": 2
}
