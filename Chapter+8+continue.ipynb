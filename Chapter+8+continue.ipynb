{
 "cells": [
  {
   "cell_type": "code",
   "execution_count": 2,
   "metadata": {},
   "outputs": [
    {
     "name": "stdout",
     "output_type": "stream",
     "text": [
      "{'first': 'Mujtaba', 'last': 'khan'}\n",
      "None\n"
     ]
    }
   ],
   "source": [
    "def builperson(first_name,last_name):\n",
    "    \"\"\"returning a dict\"\"\"\n",
    "    person  = {'first':first_name,'last':last_name}\n",
    "    print(person)\n",
    "\n",
    "message = builperson('Mujtaba',\"khan\")\n",
    "print(message)"
   ]
  },
  {
   "cell_type": "code",
   "execution_count": 4,
   "metadata": {},
   "outputs": [
    {
     "name": "stdout",
     "output_type": "stream",
     "text": [
      "{'first': 'Mujtaba', 'last': 'Khan', 'middle': 'abc'}\n"
     ]
    }
   ],
   "source": [
    "def builperson(first_name,last_name,middle_name=''):\n",
    "    person = {'first':first_name,'last':last_name}\n",
    "    if middle_name:\n",
    "        person['middle']= middle_name\n",
    "    return person\n",
    "obj =builperson('Mujtaba','Khan',\"abc\")\n",
    "print(obj)"
   ]
  },
  {
   "cell_type": "code",
   "execution_count": 15,
   "metadata": {},
   "outputs": [
    {
     "ename": "NameError",
     "evalue": "name 'f_name' is not defined",
     "output_type": "error",
     "traceback": [
      "\u001b[1;31m---------------------------------------------------------------------------\u001b[0m",
      "\u001b[1;31mNameError\u001b[0m                                 Traceback (most recent call last)",
      "\u001b[1;32m<ipython-input-15-3e6ab9e78a71>\u001b[0m in \u001b[0;36m<module>\u001b[1;34m()\u001b[0m\n\u001b[0;32m     10\u001b[0m \u001b[1;33m\u001b[0m\u001b[0m\n\u001b[0;32m     11\u001b[0m \u001b[1;33m\u001b[0m\u001b[0m\n\u001b[1;32m---> 12\u001b[1;33m \u001b[0mmesg\u001b[0m \u001b[1;33m=\u001b[0m \u001b[0mget_formatted_name\u001b[0m\u001b[1;33m(\u001b[0m\u001b[0mf_name\u001b[0m\u001b[1;33m,\u001b[0m\u001b[0ml_nmae\u001b[0m\u001b[1;33m)\u001b[0m\u001b[1;33m\u001b[0m\u001b[0m\n\u001b[0m",
      "\u001b[1;31mNameError\u001b[0m: name 'f_name' is not defined"
     ]
    }
   ],
   "source": [
    "def get_formatted_name(first_name,last_nmae):\n",
    "    \n",
    "    person_Name = first_name + ' ' + last_nmae\n",
    "    return person_Name\n",
    "       \n",
    "    while True:\n",
    "        f_name = input ('your first name')\n",
    "        l_nmae = input('your last name')\n",
    "        \n",
    "        \n",
    "        \n",
    "mesg = get_formatted_name(f_name,l_nmae)"
   ]
  },
  {
   "cell_type": "code",
   "execution_count": null,
   "metadata": {
    "collapsed": true
   },
   "outputs": [],
   "source": [
    "def get_formatted_name(first_name,last_nmae):\n",
    "    full_name = frst_name+' '+ last_name\n",
    "    print(full_name)\n",
    "    \n",
    "    while True:\n",
    "        print('Enter your name ')\n",
    "        \n",
    "        f_name = input('Enter your name')\n",
    "        if f_name =='q':\n",
    "            break\n",
    "        \n",
    "        l_name = input('Enter your last name')\n",
    "        if l_name =='q':\n",
    "            break\n",
    "            \n",
    "        \n",
    "        mess = get_formatted_name(f_name,l_name)\n",
    "        print(mess)\n",
    "    \n",
    "\n"
   ]
  },
  {
   "cell_type": "code",
   "execution_count": null,
   "metadata": {
    "collapsed": true
   },
   "outputs": [],
   "source": [
    "def album(artist_name,album_title):\n",
    "    album = {'Name':get_formatted_name,\n",
    "            'Title':album_title}\n",
    "    return album\n",
    "\n",
    "show = album('guzarish','atif aslam')"
   ]
  },
  {
   "cell_type": "code",
   "execution_count": null,
   "metadata": {
    "collapsed": true
   },
   "outputs": [],
   "source": [
    "def album(artist,album,tracks=''):\n",
    "    albumS = {'Name':get_formatted_name,\n",
    "            'Title':album_title}\n",
    "    if tracks:\n",
    "        albumS['track']= tracks\n",
    "        \n",
    "    return albumS\n",
    "title_prompt = \"\\nWhat album are you thinking of? \"\n",
    "artist_prompt = \"Who's the artist? \"\n",
    "while True:\n",
    "    artist = input(title_prompt)\n",
    "    if artist == 'q':\n",
    "        break\n",
    "    title = input(artist_prompt)\n",
    "    if title == 'q':\n",
    "        break\n",
    "    mess = album(artist, title)\n",
    "    print(mess)\n",
    "\n",
    "\n",
    "\n"
   ]
  },
  {
   "cell_type": "code",
   "execution_count": null,
   "metadata": {
    "collapsed": true
   },
   "outputs": [],
   "source": [
    "def album(artist,album,tracks=''):\n",
    "    \"\"\"with dictionaries\"\"\"\n",
    "    albumS = {'Name': artist,\n",
    "            'Title':album}\n",
    "    if tracks:\n",
    "        albumS['track']= tracks\n",
    "        \n",
    "    return albumS\n",
    "title_prompt = \"\\nWhat album are you thinking of? \"\n",
    "artist_prompt = \"Who's the artist? \"\n",
    "while True:\n",
    "    artist = input(title_prompt)\n",
    "    if artist == 'q':\n",
    "        break\n",
    "    title = input(artist_prompt)\n",
    "    if title == 'q':\n",
    "        break\n",
    "    mess = album(artist, title)\n",
    "    \n",
    "    \n",
    "    \n",
    "    print(mess)\n"
   ]
  },
  {
   "cell_type": "code",
   "execution_count": null,
   "metadata": {
    "collapsed": true
   },
   "outputs": [],
   "source": [
    "def list_return(names):\n",
    "    for name in names :\n",
    "        print('hello'+name)\n",
    "\n",
    "list_return(['Mujtaba','Zain','Wasi'])"
   ]
  },
  {
   "cell_type": "code",
   "execution_count": null,
   "metadata": {
    "collapsed": true
   },
   "outputs": [],
   "source": [
    "un_confirmed = ['Mujtaba','Zain','Wasi']\n",
    "confirmed=[]\n",
    "\n",
    "def subustitue(un_confirmed,confirmed):\n",
    "    \n",
    "    while un_confirmed:\n",
    "        \n",
    "        current = un_confirmed.pop()\n",
    "        confirmed.append(current)\n",
    "\n",
    "for con in confirmed:\n",
    "    print('Hello'+con)\n",
    "    \n",
    "    \n"
   ]
  },
  {
   "cell_type": "code",
   "execution_count": null,
   "metadata": {
    "collapsed": true
   },
   "outputs": [],
   "source": [
    "\n",
    "def show_magician(magicians):\n",
    "    for magic in magicians:\n",
    "        print(magic)\n",
    "\n",
    "magicians = ['harry houdini', 'david blaine', 'teller']        \n",
    "show_magician(magicians)\n"
   ]
  },
  {
   "cell_type": "code",
   "execution_count": null,
   "metadata": {
    "collapsed": true
   },
   "outputs": [],
   "source": [
    "    def names_list(names):\n",
    "        for name in names:\n",
    "            print(\"Hello \"+name+\" How are you?\")\n",
    "        \n",
    "    \n",
    "    \n",
    "\n",
    "names_list(['Mujtaba','Zain','Wasi'])\n",
    "print(names_list)"
   ]
  },
  {
   "cell_type": "code",
   "execution_count": 1,
   "metadata": {
    "collapsed": true
   },
   "outputs": [],
   "source": [
    "un_confirmed = ['Mujtaba','Zain','Wasi']\n",
    "confirmed=[]\n",
    "\n",
    "def subustitue(un_confirmed,confirmed):\n",
    "    \n",
    "    while un_confirmed:\n",
    "        \n",
    "        current = un_confirmed.pop()\n",
    "        confirmed.append(current)\n",
    "\n",
    "for con in confirmed:\n",
    "    print('Hello'+con)"
   ]
  },
  {
   "cell_type": "code",
   "execution_count": 2,
   "metadata": {},
   "outputs": [
    {
     "name": "stdout",
     "output_type": "stream",
     "text": [
      "Your pizza will contains:\n",
      "mushrooms\n",
      "green peppers\n",
      "extra cheese\n"
     ]
    }
   ],
   "source": [
    "def make_pizza(*toppings):\n",
    "    print('Your pizza will contains:')\n",
    "    for topps in toppings:\n",
    "        print(topps)\n",
    "\n",
    "make_pizza('mushrooms', 'green peppers', 'extra cheese')"
   ]
  },
  {
   "cell_type": "code",
   "execution_count": 3,
   "metadata": {},
   "outputs": [
    {
     "name": "stdout",
     "output_type": "stream",
     "text": [
      "the size of the pizza is 22 it will contain('mushrooms', 'green peppers', 'extra cheese')\n"
     ]
    }
   ],
   "source": [
    "def mixing_arbit_positional(size,*topping):\n",
    "    \n",
    "    res = ('the size of the pizza is '+size  +' it will contain'+str(topping))\n",
    "    print(res)\n",
    "    \n",
    "mixing_arbit_positional('22','mushrooms', 'green peppers', 'extra cheese')\n",
    "    "
   ]
  },
  {
   "cell_type": "code",
   "execution_count": 4,
   "metadata": {},
   "outputs": [
    {
     "name": "stdout",
     "output_type": "stream",
     "text": [
      "{'First_name': 'Mujtaba', 'Last_name': 'Khan', 'location': 'Karachi', 'field': 'IT'}\n"
     ]
    }
   ],
   "source": [
    "def user(first,last,**info):\n",
    "    profile ={\n",
    "        'First_name':first,\n",
    "        'Last_name':last,        \n",
    "    }\n",
    "    \n",
    "    for key,value in info.items():\n",
    "        profile[key]= value\n",
    "    return profile\n",
    "\n",
    "mess = user('Mujtaba','Khan',location = 'Karachi',field='IT')\n",
    "print(mess)"
   ]
  },
  {
   "cell_type": "code",
   "execution_count": 5,
   "metadata": {},
   "outputs": [
    {
     "name": "stdout",
     "output_type": "stream",
     "text": [
      "{'Model': 'honda', 'Manufecturer': 'accord', 'year': 1991, 'color': 'white', 'headlights': 'popup'}\n"
     ]
    }
   ],
   "source": [
    "def car (model,manufecturer,**info):\n",
    "    details ={\n",
    "        'Model':model,\n",
    "        'Manufecturer':manufecturer,\n",
    "    }\n",
    "    for option,value in info.items():\n",
    "        details[option] = value\n",
    "        \n",
    "    return details\n",
    "\n",
    "mess = car('honda', 'accord', year=1991, color='white',\n",
    "        headlights='popup')\n",
    "print(mess)"
   ]
  },
  {
   "cell_type": "code",
   "execution_count": null,
   "metadata": {
    "collapsed": true
   },
   "outputs": [],
   "source": []
  }
 ],
 "metadata": {
  "kernelspec": {
   "display_name": "Python 3",
   "language": "python",
   "name": "python3"
  },
  "language_info": {
   "codemirror_mode": {
    "name": "ipython",
    "version": 3
   },
   "file_extension": ".py",
   "mimetype": "text/x-python",
   "name": "python",
   "nbconvert_exporter": "python",
   "pygments_lexer": "ipython3",
   "version": "3.6.3"
  }
 },
 "nbformat": 4,
 "nbformat_minor": 2
}
