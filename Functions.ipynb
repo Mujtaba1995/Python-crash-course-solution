{
 "cells": [
  {
   "cell_type": "code",
   "execution_count": 1,
   "metadata": {},
   "outputs": [
    {
     "name": "stdout",
     "output_type": "stream",
     "text": [
      "My name is Mujtaba Khan\n"
     ]
    }
   ],
   "source": [
    "def Func():\n",
    "    \"\"\"Display name\"\"\"\"\n",
    "    print('My name is Mujtaba Khan')\n",
    "\n",
    "Func()"
   ]
  },
  {
   "cell_type": "code",
   "execution_count": 3,
   "metadata": {},
   "outputs": [
    {
     "name": "stdout",
     "output_type": "stream",
     "text": [
      "My name is Mujtaba\n"
     ]
    }
   ],
   "source": [
    "def withpara(name):\n",
    "    \"\"\"Display single parametre\"\"\"\"\n",
    "    print('My name is '+name.title())\n",
    "\n",
    "withpara('mujtaba')"
   ]
  },
  {
   "cell_type": "code",
   "execution_count": 5,
   "metadata": {},
   "outputs": [
    {
     "name": "stdout",
     "output_type": "stream",
     "text": [
      "My name is Mujtaba!\n",
      "My University is Bahria University\n"
     ]
    }
   ],
   "source": [
    "def withmorepara(name,uni):\n",
    "    \"\"\"Display\"\"\"\"\n",
    "    print('My name is '+name.title()+'!')\n",
    "    print('My University is '+uni.title())\n",
    "    \n",
    "\n",
    "withmorepara('mujtaba','Bahria University')   "
   ]
  },
  {
   "cell_type": "code",
   "execution_count": 7,
   "metadata": {},
   "outputs": [
    {
     "name": "stdout",
     "output_type": "stream",
     "text": [
      "I have a dog\n",
      "the name of mydogand his name isJojo\n",
      "I have a cat\n",
      "the name of mycatand his name isMano\n"
     ]
    }
   ],
   "source": [
    "def animals(typ,name):\n",
    "    \"\"\"use of multiple func calls\"\"\"\n",
    "    print(\"I have a \"+typ)\n",
    "    print('the name of my'+typ+\"and his name is\"+name)\n",
    "    \n",
    "animals('dog','Jojo')\n",
    "animals('cat','Mano')"
   ]
  },
  {
   "cell_type": "code",
   "execution_count": 8,
   "metadata": {},
   "outputs": [
    {
     "name": "stdout",
     "output_type": "stream",
     "text": [
      "my pet type is dog\n",
      "Name of pet is\n"
     ]
    }
   ],
   "source": [
    "def anotherone(name,ani_type='dog'):\n",
    "    \"\"\"default paprametre\"\"\"\n",
    "    print ('my pet type is '+ani_type)\n",
    "    print ('Name of pet is')\n",
    "\n",
    "anotherone('jojo')"
   ]
  },
  {
   "cell_type": "code",
   "execution_count": 12,
   "metadata": {},
   "outputs": [
    {
     "name": "stdout",
     "output_type": "stream",
     "text": [
      "the size of my shirt is Large\n",
      "the message on it will beWonderingfuel\n"
     ]
    }
   ],
   "source": [
    "def shirts(size,message):\n",
    "    print('the size of my shirt is '+size)\n",
    "    print('the message on it will be '+message)\n",
    "    \n",
    "shirts('Large','Wonderingfuel')"
   ]
  },
  {
   "cell_type": "code",
   "execution_count": 15,
   "metadata": {},
   "outputs": [
    {
     "name": "stdout",
     "output_type": "stream",
     "text": [
      "\n",
      "I'm going to make a large t-shirt.\n",
      "It will say, \"I love Python!\"\n",
      "\n",
      "I'm going to make a Large t-shirt.\n",
      "It will say, \"I love Python!\"\n",
      "\n",
      "I'm going to make a large t-shirt.\n",
      "It will say, \"hey!\"\n"
     ]
    }
   ],
   "source": [
    "def make_shirt(size='large', message='I love Python!'):\n",
    "    \"\"\"Summarize the shirt that's going to be made.\"\"\"\n",
    "    print(\"\\nI'm going to make a \" + size + \" t-shirt.\")\n",
    "    print('It will say, \"' + message + '\"')\n",
    "    \n",
    "make_shirt()\n",
    "make_shirt('Large')\n",
    "make_shirt(message='hey!')"
   ]
  },
  {
   "cell_type": "code",
   "execution_count": 17,
   "metadata": {},
   "outputs": [
    {
     "name": "stdout",
     "output_type": "stream",
     "text": [
      "Karachi is in Pakistan.\n",
      "Heyderabad is in India.\n",
      "Ghotki is in Pakistan.\n"
     ]
    }
   ],
   "source": [
    "def describe_city(city, country='Pakistan'):\n",
    "    \"\"\"Describe a city.\"\"\"\n",
    "    msg = city.title() + \" is in \" + country.title() + \".\"\n",
    "    print(msg)\n",
    "\n",
    "describe_city('Karachi')\n",
    "describe_city('Heyderabad', 'India')\n",
    "describe_city('Ghotki')"
   ]
  },
  {
   "cell_type": "code",
   "execution_count": null,
   "metadata": {
    "collapsed": true
   },
   "outputs": [],
   "source": [
    "def get_formatted_names(first,last):\n",
    "    full_name = first+ \" \"+last\n",
    "    return full_name.title()\n",
    "get_formatted_names\n"
   ]
  }
 ],
 "metadata": {
  "kernelspec": {
   "display_name": "Python 3",
   "language": "python",
   "name": "python3"
  },
  "language_info": {
   "codemirror_mode": {
    "name": "ipython",
    "version": 3
   },
   "file_extension": ".py",
   "mimetype": "text/x-python",
   "name": "python",
   "nbconvert_exporter": "python",
   "pygments_lexer": "ipython3",
   "version": "3.6.3"
  }
 },
 "nbformat": 4,
 "nbformat_minor": 2
}
