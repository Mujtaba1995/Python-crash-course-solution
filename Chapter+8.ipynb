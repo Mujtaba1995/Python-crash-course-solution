{
 "cells": [
  {
   "cell_type": "code",
   "execution_count": 4,
   "metadata": {},
   "outputs": [
    {
     "name": "stdout",
     "output_type": "stream",
     "text": [
      "Hello Mujtaba\n"
     ]
    }
   ],
   "source": [
    "def get_User():\n",
    "    print(\"Hello Mujtaba\")\n",
    "\n",
    "get_User()"
   ]
  },
  {
   "cell_type": "code",
   "execution_count": 10,
   "metadata": {},
   "outputs": [
    {
     "name": "stdout",
     "output_type": "stream",
     "text": [
      "Hello Mujtaba!!\n"
     ]
    }
   ],
   "source": [
    "def greet_user(username):\n",
    "    print('Hello '+username.title()+'!!')\n",
    "\n",
    "greet_user('mujtaba')  "
   ]
  },
  {
   "cell_type": "code",
   "execution_count": 15,
   "metadata": {
    "collapsed": true
   },
   "outputs": [],
   "source": [
    "def display():\n",
    "    \n",
    "     \"\"\"Display a message about what I'm learning.\"\"\"\n",
    "     message = 'I am learning Python'\n",
    "     print(message)\n",
    "        \n",
    "        \n",
    " \n",
    "display()"
   ]
  },
  {
   "cell_type": "code",
   "execution_count": 16,
   "metadata": {},
   "outputs": [
    {
     "name": "stdout",
     "output_type": "stream",
     "text": [
      "the ane of my favourite bokk isPython carsh course\n"
     ]
    }
   ],
   "source": [
    "def title(name):\n",
    "    print(\"the ane of my favourite bokk is \"+name)\n",
    "\n",
    "title('Python carsh course')    "
   ]
  },
  {
   "cell_type": "code",
   "execution_count": 4,
   "metadata": {},
   "outputs": [
    {
     "name": "stdout",
     "output_type": "stream",
     "text": [
      "city is Karachi\n",
      "Country is Pakistan\n",
      "city is heyderabad\n",
      "Country is Pakistan\n",
      "city is Karachi\n",
      "Country is canada\n"
     ]
    }
   ],
   "source": [
    "def cities(city=\"Karachi\",country =\"Pakistan\"):\n",
    "    print('city is '+city)\n",
    "    print('Country is '+country)\n",
    "    \n",
    "    \n",
    "cities()\n",
    "cities('heyderabad')\n",
    "cities(country='canada')\n"
   ]
  },
  {
   "cell_type": "code",
   "execution_count": 7,
   "metadata": {
    "scrolled": true
   },
   "outputs": [
    {
     "name": "stdout",
     "output_type": "stream",
     "text": [
      "Mujtaba Khan\n"
     ]
    }
   ],
   "source": [
    "def name_concat(first,last):\n",
    "    full_name=(first +\" \"+last)\n",
    "    return full_name.title()\n",
    "\n",
    "fname =  name_concat('Mujtaba','khan')\n",
    "print(fname)\n",
    "\n",
    "    "
   ]
  },
  {
   "cell_type": "code",
   "execution_count": 16,
   "metadata": {},
   "outputs": [
    {
     "name": "stdout",
     "output_type": "stream",
     "text": [
      "{'first': 'Mujtaba', 'last': 'khan'}\n"
     ]
    }
   ],
   "source": [
    "def build_person(first_name,last_name):\n",
    "    \"\"\"Ruturning a dictionary\"\"\"\n",
    "    comp_name = {'first':first_name,'last':last_name}\n",
    "    return comp_name\n",
    "\n",
    "message= build_person('Mujtaba','khan')\n",
    "print(message)\n",
    "    \n"
   ]
  },
  {
   "cell_type": "code",
   "execution_count": 18,
   "metadata": {},
   "outputs": [
    {
     "name": "stdout",
     "output_type": "stream",
     "text": [
      "{'first': 'Mujtaba', 'last': 'Khan'}\n",
      "{'first': 'Mujtaba', 'last': 'Khan', 'age': '23'}\n"
     ]
    }
   ],
   "source": [
    "def with_age (first_name,last_name,age=''):\n",
    "    \"\"\"Returning optional parameters\"\"\"\n",
    "    person = {'first':first_name,'last':last_name}\n",
    "    if age:\n",
    "        person['age'] = age\n",
    "    return person\n",
    "\n",
    "message = with_age('Mujtaba','Khan')\n",
    "print(message)\n",
    "message = with_age('Mujtaba','Khan','23')\n",
    "print(message)    "
   ]
  },
  {
   "cell_type": "code",
   "execution_count": null,
   "metadata": {},
   "outputs": [
    {
     "name": "stdout",
     "output_type": "stream",
     "text": [
      "Do you want to tell me your name? (y/n)\n",
      "enter  your first name mujtaba\n",
      "enter  your last name khan\n",
      "Do you want to tell me your name? (y/n)\n"
     ]
    }
   ],
   "source": [
    "def get_formatted_name(first,last):\n",
    "    full_name = first +\" \"+last\n",
    "    return full_name\n",
    "while True:\n",
    "    print('Do you want to tell me your name? (y/n)' )\n",
    "    \n",
    "    first_name = input(\"enter  your first name \")\n",
    "    if first_name == 'n':\n",
    "        break\n",
    "    last_name = input(\"enter  your last name \")\n",
    "    if last_name == 'n':\n",
    "        break\n",
    "\n",
    "message = get_formatted_name(first_name,last_name)\n",
    "print(\"hello\"+message +\"!\")\n",
    "\n",
    "\n",
    "\n",
    "\n",
    "    "
   ]
  },
  {
   "cell_type": "code",
   "execution_count": 12,
   "metadata": {},
   "outputs": [
    {
     "name": "stdout",
     "output_type": "stream",
     "text": [
      "The Mean Queen\n",
      "pizza\n",
      "\n",
      "The Mean Queen serves wonderful pizza.\n",
      "\n",
      "The Mean Queen is open. Come on in!\n"
     ]
    }
   ],
   "source": [
    "class Restaurant():\n",
    "    \"\"\"A class representing a restaurant.\"\"\"\n",
    "\n",
    "    def __init__(self, name, cuisine_type):\n",
    "        \"\"\"Initialize the restaurant.\"\"\"\n",
    "        self.name = name.title()\n",
    "        self.cuisine_type = cuisine_type\n",
    "\n",
    "    def describe_restaurant(self):\n",
    "        \"\"\"Display a summary of the restaurant.\"\"\"\n",
    "        msg = self.name + \" serves wonderful \" + self.cuisine_type + \".\"\n",
    "        print(\"\\n\" + msg)\n",
    "\n",
    "    def open_restaurant(self):\n",
    "        \"\"\"Display a message that the restaurant is open.\"\"\"\n",
    "        msg = self.name + \" is open. Come on in!\"\n",
    "        print(\"\\n\" + msg)\n",
    "\n",
    "restaurant = Restaurant('the mean queen', 'pizza')\n",
    "print(restaurant.name)\n",
    "print(restaurant.cuisine_type)\n",
    "\n",
    "restaurant.describe_restaurant()\n",
    "restaurant.open_restaurant()\n"
   ]
  },
  {
   "cell_type": "code",
   "execution_count": null,
   "metadata": {
    "collapsed": true
   },
   "outputs": [],
   "source": [
    "def builperson(first_name,last_name):\n",
    "    \"\"\"returning a dict\"\"\"\n",
    "    person  = {'first':first_name,'last':last_name}\n",
    "    print(person)\n",
    "\n",
    "message = builperson('Mujtaba',\"khan\")\n",
    "print(message)"
   ]
  },
  {
   "cell_type": "code",
   "execution_count": null,
   "metadata": {
    "collapsed": true
   },
   "outputs": [],
   "source": []
  },
  {
   "cell_type": "code",
   "execution_count": null,
   "metadata": {
    "collapsed": true
   },
   "outputs": [],
   "source": []
  }
 ],
 "metadata": {
  "kernelspec": {
   "display_name": "Python 3",
   "language": "python",
   "name": "python3"
  },
  "language_info": {
   "codemirror_mode": {
    "name": "ipython",
    "version": 3
   },
   "file_extension": ".py",
   "mimetype": "text/x-python",
   "name": "python",
   "nbconvert_exporter": "python",
   "pygments_lexer": "ipython3",
   "version": "3.6.3"
  }
 },
 "nbformat": 4,
 "nbformat_minor": 2
}
