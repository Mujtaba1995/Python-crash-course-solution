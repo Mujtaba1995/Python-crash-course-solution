{
 "cells": [
  {
   "cell_type": "code",
   "execution_count": 5,
   "metadata": {},
   "outputs": [
    {
     "name": "stdout",
     "output_type": "stream",
     "text": [
      "Your pizza will contains:\n",
      "mushrooms\n",
      "green peppers\n",
      "extra cheese\n"
     ]
    }
   ],
   "source": [
    "def make_pizza(*toppings):\n",
    "    print('Your pizza will contains:')\n",
    "    for topps in toppings:\n",
    "        print(topps)\n",
    "\n",
    "make_pizza('mushrooms', 'green peppers', 'extra cheese')"
   ]
  },
  {
   "cell_type": "code",
   "execution_count": 6,
   "metadata": {},
   "outputs": [
    {
     "name": "stdout",
     "output_type": "stream",
     "text": [
      "Your pizza will contains:\n",
      "mushrooms\n",
      "green peppers\n",
      "extra cheese\n"
     ]
    }
   ],
   "source": [
    "def make_pizza(*toppings):\n",
    "    print('Your pizza will contains:')\n",
    "    for topps in toppings:\n",
    "        print(topps)\n",
    "\n",
    "make_pizza('mushrooms', 'green peppers', 'extra cheese')"
   ]
  },
  {
   "cell_type": "code",
   "execution_count": 10,
   "metadata": {},
   "outputs": [
    {
     "name": "stdout",
     "output_type": "stream",
     "text": [
      "the size of the pizza is 22 it will contain('mushrooms', 'green peppers', 'extra cheese')\n"
     ]
    }
   ],
   "source": [
    "def mixing_arbit_positional(size,*topping):\n",
    "    \n",
    "    res = ('the size of the pizza is '+size  +' it will contain'+str(topping))\n",
    "    print(res)\n",
    "    \n",
    "mixing_arbit_positional('22','mushrooms', 'green peppers', 'extra cheese')\n",
    "    "
   ]
  },
  {
   "cell_type": "code",
   "execution_count": 24,
   "metadata": {},
   "outputs": [
    {
     "name": "stdout",
     "output_type": "stream",
     "text": [
      "{'First_name': 'Mujtaba', 'Last_name': 'Khan', 'location': 'Karachi', 'field': 'IT'}\n"
     ]
    }
   ],
   "source": [
    "def user(first,last,**info):\n",
    "    profile ={\n",
    "        'First_name':first,\n",
    "        'Last_name':last,        \n",
    "    }\n",
    "    \n",
    "    for key,value in info.items():\n",
    "        profile[key]= value\n",
    "    return profile\n",
    "\n",
    "mess = user('Mujtaba','Khan',location = 'Karachi',field='IT')\n",
    "print(mess)\n",
    "        \n"
   ]
  },
  {
   "cell_type": "code",
   "execution_count": 27,
   "metadata": {},
   "outputs": [
    {
     "name": "stdout",
     "output_type": "stream",
     "text": [
      "{'Model': 'honda', 'Manufecturer': 'accord', 'year': 1991, 'color': 'white', 'headlights': 'popup'}\n"
     ]
    }
   ],
   "source": [
    "def car (model,manufecturer,**info):\n",
    "    details ={\n",
    "        'Model':model,\n",
    "        'Manufecturer':manufecturer,\n",
    "    }\n",
    "    for option,value in info.items():\n",
    "        details[option] = value\n",
    "        \n",
    "    return details\n",
    "\n",
    "mess = car('honda', 'accord', year=1991, color='white',\n",
    "        headlights='popup')\n",
    "print(mess)"
   ]
  },
  {
   "cell_type": "code",
   "execution_count": null,
   "metadata": {
    "collapsed": true
   },
   "outputs": [],
   "source": []
  }
 ],
 "metadata": {
  "kernelspec": {
   "display_name": "Python 3",
   "language": "python",
   "name": "python3"
  },
  "language_info": {
   "codemirror_mode": {
    "name": "ipython",
    "version": 3
   },
   "file_extension": ".py",
   "mimetype": "text/x-python",
   "name": "python",
   "nbconvert_exporter": "python",
   "pygments_lexer": "ipython3",
   "version": "3.6.3"
  }
 },
 "nbformat": 4,
 "nbformat_minor": 2
}
